{
 "cells": [
  {
   "cell_type": "markdown",
   "metadata": {},
   "source": [
    "<table> <tr>\n",
    "        <td  style=\"background-color:#ffffff;\"><a href=\"http://qworld.lu.lv/\" target=\"_blank\"><img src=\"../images/qworld.jpg\" width=\"25%\" align=\"left\"></a></td>\n",
    "        <td  style=\"background-color:#ffffff;vertical-align:bottom;\">\n",
    "            prepared by Abuzer Yakaryilmaz (<a href=\"http://qworld.lu.lv/index.php/qlatvia/\" target=\"_blank\">QLatvia</a>)\n",
    "        </td>        \n",
    "</tr></table>"
   ]
  },
  {
   "cell_type": "markdown",
   "metadata": {},
   "source": [
    "<table width=\"100%\"><tr><td style=\"color:#bbbbbb;background-color:#ffffff;font-size:11px;font-style:italic;text-align:right;\">This cell contains some macros. If there is a problem with displaying mathematical formulas, please run this cell to load these macros. </td></tr></table>\n",
    "$ \\newcommand{\\bra}[1]{\\langle #1|} $\n",
    "$ \\newcommand{\\ket}[1]{|#1\\rangle} $\n",
    "$ \\newcommand{\\braket}[2]{\\langle #1|#2\\rangle} $\n",
    "$ \\newcommand{\\dot}[2]{ #1 \\cdot #2} $\n",
    "$ \\newcommand{\\biginner}[2]{\\left\\langle #1,#2\\right\\rangle} $\n",
    "$ \\newcommand{\\mymatrix}[2]{\\left( \\begin{array}{#1} #2\\end{array} \\right)} $\n",
    "$ \\newcommand{\\myvector}[1]{\\mymatrix{c}{#1}} $\n",
    "$ \\newcommand{\\myrvector}[1]{\\mymatrix{r}{#1}} $\n",
    "$ \\newcommand{\\mypar}[1]{\\left( #1 \\right)} $\n",
    "$ \\newcommand{\\mybigpar}[1]{ \\Big( #1 \\Big)} $\n",
    "$ \\newcommand{\\sqrttwo}{\\frac{1}{\\sqrt{2}}} $\n",
    "$ \\newcommand{\\dsqrttwo}{\\dfrac{1}{\\sqrt{2}}} $\n",
    "$ \\newcommand{\\onehalf}{\\frac{1}{2}} $\n",
    "$ \\newcommand{\\donehalf}{\\dfrac{1}{2}} $\n",
    "$ \\newcommand{\\hadamard}{ \\mymatrix{rr}{ \\sqrttwo & \\sqrttwo \\\\ \\sqrttwo & -\\sqrttwo }} $\n",
    "$ \\newcommand{\\vzero}{\\myvector{1\\\\0}} $\n",
    "$ \\newcommand{\\vone}{\\myvector{0\\\\1}} $\n",
    "$ \\newcommand{\\vhadamardzero}{\\myvector{ \\sqrttwo \\\\  \\sqrttwo } } $\n",
    "$ \\newcommand{\\vhadamardone}{ \\myrvector{ \\sqrttwo \\\\ -\\sqrttwo } } $\n",
    "$ \\newcommand{\\myarray}[2]{ \\begin{array}{#1}#2\\end{array}} $\n",
    "$ \\newcommand{\\X}{ \\mymatrix{cc}{0 & 1 \\\\ 1 & 0}  } $\n",
    "$ \\newcommand{\\Z}{ \\mymatrix{rr}{1 & 0 \\\\ 0 & -1}  } $\n",
    "$ \\newcommand{\\Htwo}{ \\mymatrix{rrrr}{ \\frac{1}{2} & \\frac{1}{2} & \\frac{1}{2} & \\frac{1}{2} \\\\ \\frac{1}{2} & -\\frac{1}{2} & \\frac{1}{2} & -\\frac{1}{2} \\\\ \\frac{1}{2} & \\frac{1}{2} & -\\frac{1}{2} & -\\frac{1}{2} \\\\ \\frac{1}{2} & -\\frac{1}{2} & -\\frac{1}{2} & \\frac{1}{2} } } $\n",
    "$ \\newcommand{\\CNOT}{ \\mymatrix{cccc}{1 & 0 & 0 & 0 \\\\ 0 & 1 & 0 & 0 \\\\ 0 & 0 & 0 & 1 \\\\ 0 & 0 & 1 & 0} } $\n",
    "$ \\newcommand{\\norm}[1]{ \\left\\lVert #1 \\right\\rVert } $\n",
    "$ \\newcommand{\\pstate}[1]{ \\lceil \\mspace{-1mu} #1 \\mspace{-1.5mu} \\rfloor } $"
   ]
  },
  {
   "cell_type": "markdown",
   "metadata": {},
   "source": [
    "## Qiskit installation and test\n",
    "\n",
    "- [Check your system](#check)\n",
    "- [Install qiskit](#install)\n",
    "- [Tips](#tips)\n",
    "- [Execute an example quantum program](#test)"
   ]
  },
  {
   "cell_type": "markdown",
   "metadata": {},
   "source": [
    "<hr id=\"check\">\n",
    "\n",
    "### Check your system\n",
    "\n",
    "Check your system, if Qiskit has already been installed:"
   ]
  },
  {
   "cell_type": "code",
   "execution_count": 1,
   "metadata": {},
   "outputs": [
    {
     "name": "stdout",
     "output_type": "stream",
     "text": [
      "The version of Qiskit is 0.15.0\n",
      "\n",
      "The version of each component:\n",
      "qiskit-terra -> 0.12.0\n",
      "qiskit-aer -> 0.4.0\n",
      "qiskit-ignis -> 0.2.0\n",
      "qiskit-ibmq-provider -> 0.4.6\n",
      "qiskit-aqua -> 0.6.4\n",
      "qiskit -> 0.15.0\n"
     ]
    }
   ],
   "source": [
    "import qiskit\n",
    "versions = qiskit.__qiskit_version__\n",
    "print(\"The version of Qiskit is\",versions['qiskit'])\n",
    "print()\n",
    "print(\"The version of each component:\")\n",
    "for key in versions:\n",
    "    print(key,\"->\",versions[key])"
   ]
  },
  {
   "cell_type": "markdown",
   "metadata": {},
   "source": [
    "**You should be able to see the version number of any library that is already installed in your system.**"
   ]
  },
  {
   "cell_type": "markdown",
   "metadata": {},
   "source": [
    "<hr id=\"install\">\n",
    "\n",
    "### Install qiskit\n",
    "\n",
    "(If you are an experienced user, visit this link: https://qiskit.org/documentation/install.html)\n",
    "\n",
    "You can install Qiskit by executing the following cell:"
   ]
  },
  {
   "cell_type": "code",
   "execution_count": 2,
   "metadata": {},
   "outputs": [
    {
     "name": "stdout",
     "output_type": "stream",
     "text": [
      "Collecting qiskit==0.15.0\n",
      "  Downloading qiskit-0.15.0.tar.gz (3.5 kB)\n",
      "Collecting qiskit-terra==0.12.0\n",
      "  Downloading qiskit_terra-0.12.0-cp38-cp38-macosx_10_9_x86_64.whl (2.2 MB)\n",
      "\u001b[K     |████████████████████████████████| 2.2 MB 3.7 MB/s eta 0:00:01\n",
      "\u001b[?25hCollecting qiskit-aer==0.4.0\n",
      "  Downloading qiskit_aer-0.4.0-cp38-cp38-macosx_10_9_x86_64.whl (13.7 MB)\n",
      "\u001b[K     |████████████████████████████████| 13.7 MB 5.7 MB/s eta 0:00:01\n",
      "\u001b[?25hCollecting qiskit-ibmq-provider==0.4.6\n",
      "  Downloading qiskit_ibmq_provider-0.4.6-py3-none-any.whl (100 kB)\n",
      "\u001b[K     |████████████████████████████████| 100 kB 7.5 MB/s ta 0:00:011\n",
      "\u001b[?25hCollecting qiskit-ignis==0.2.0\n",
      "  Downloading qiskit_ignis-0.2.0-py3-none-any.whl (100 kB)\n",
      "\u001b[K     |████████████████████████████████| 100 kB 5.3 MB/s ta 0:00:011\n",
      "\u001b[?25hCollecting qiskit-aqua==0.6.4\n",
      "  Downloading qiskit_aqua-0.6.4-py3-none-any.whl (1.8 MB)\n",
      "\u001b[K     |████████████████████████████████| 1.8 MB 28.6 MB/s eta 0:00:01\n",
      "\u001b[?25hCollecting psutil>=5\n",
      "  Downloading psutil-5.7.3.tar.gz (465 kB)\n",
      "\u001b[K     |████████████████████████████████| 465 kB 886 kB/s eta 0:00:01\n",
      "\u001b[?25hRequirement already satisfied, skipping upgrade: scipy>=1.0 in /usr/local/lib/python3.8/site-packages (from qiskit-terra==0.12.0->qiskit==0.15.0) (1.5.4)\n",
      "Collecting dill>=0.3\n",
      "  Downloading dill-0.3.3-py2.py3-none-any.whl (81 kB)\n",
      "\u001b[K     |████████████████████████████████| 81 kB 10.2 MB/s eta 0:00:01\n",
      "\u001b[?25hCollecting marshmallow-polyfield<6,>=5.7\n",
      "  Downloading marshmallow-polyfield-5.9.tar.gz (8.5 kB)\n",
      "Collecting ply>=3.10\n",
      "  Downloading ply-3.11-py2.py3-none-any.whl (49 kB)\n",
      "\u001b[K     |████████████████████████████████| 49 kB 11.5 MB/s eta 0:00:01\n",
      "\u001b[?25hRequirement already satisfied, skipping upgrade: numpy>=1.13 in /usr/local/lib/python3.8/site-packages (from qiskit-terra==0.12.0->qiskit==0.15.0) (1.19.4)\n",
      "Collecting marshmallow<4,>=3\n",
      "  Downloading marshmallow-3.9.1-py2.py3-none-any.whl (46 kB)\n",
      "\u001b[K     |████████████████████████████████| 46 kB 6.7 MB/s eta 0:00:01\n",
      "\u001b[?25hRequirement already satisfied, skipping upgrade: jsonschema>=2.6 in /usr/local/lib/python3.8/site-packages (from qiskit-terra==0.12.0->qiskit==0.15.0) (3.2.0)\n",
      "Collecting networkx>=2.2; python_version > \"3.5\"\n",
      "  Downloading networkx-2.5-py3-none-any.whl (1.6 MB)\n",
      "\u001b[K     |████████████████████████████████| 1.6 MB 8.3 MB/s eta 0:00:01\n",
      "\u001b[?25hCollecting sympy>=1.3\n",
      "  Downloading sympy-1.6.2-py3-none-any.whl (5.8 MB)\n",
      "\u001b[K     |████████████████████████████████| 5.8 MB 7.0 MB/s eta 0:00:01\n",
      "\u001b[?25hCollecting cython>=0.27.1\n",
      "  Downloading Cython-0.29.21-cp38-cp38-macosx_10_9_x86_64.whl (1.9 MB)\n",
      "\u001b[K     |████████████████████████████████| 1.9 MB 3.3 MB/s eta 0:00:01\n",
      "\u001b[?25hCollecting pybind11>=2.4\n",
      "  Downloading pybind11-2.6.1-py2.py3-none-any.whl (188 kB)\n",
      "\u001b[K     |████████████████████████████████| 188 kB 3.4 MB/s eta 0:00:01\n",
      "\u001b[?25hRequirement already satisfied, skipping upgrade: nest-asyncio!=1.1.0,>=1.0.0 in /usr/local/lib/python3.8/site-packages (from qiskit-ibmq-provider==0.4.6->qiskit==0.15.0) (1.4.2)\n",
      "Collecting requests-ntlm>=1.1.0\n",
      "  Downloading requests_ntlm-1.1.0-py2.py3-none-any.whl (5.7 kB)\n",
      "Collecting arrow>=0.15.5\n",
      "  Downloading arrow-0.17.0-py2.py3-none-any.whl (50 kB)\n",
      "\u001b[K     |████████████████████████████████| 50 kB 8.6 MB/s  eta 0:00:01\n",
      "\u001b[?25hCollecting websockets<8,>=7\n",
      "  Downloading websockets-7.0.tar.gz (49 kB)\n",
      "\u001b[K     |████████████████████████████████| 49 kB 10.6 MB/s eta 0:00:01\n",
      "\u001b[?25hRequirement already satisfied, skipping upgrade: requests>=2.19 in /usr/local/lib/python3.8/site-packages (from qiskit-ibmq-provider==0.4.6->qiskit==0.15.0) (2.24.0)\n",
      "Requirement already satisfied, skipping upgrade: setuptools>=40.1.0 in /usr/local/lib/python3.8/site-packages (from qiskit-ignis==0.2.0->qiskit==0.15.0) (49.2.0)\n",
      "Collecting h5py\n",
      "  Downloading h5py-3.1.0-cp38-cp38-macosx_10_9_x86_64.whl (2.9 MB)\n",
      "\u001b[K     |████████████████████████████████| 2.9 MB 13.2 MB/s eta 0:00:01\n",
      "\u001b[?25hCollecting scikit-learn>=0.20.0\n",
      "  Downloading scikit_learn-0.23.2-cp38-cp38-macosx_10_9_x86_64.whl (7.2 MB)\n",
      "\u001b[K     |████████████████████████████████| 7.2 MB 500 kB/s  eta 0:00:01\n",
      "\u001b[?25hCollecting dlx\n",
      "  Downloading dlx-1.0.4.tar.gz (5.5 kB)\n",
      "Collecting docplex\n",
      "  Downloading docplex-2.16.196.tar.gz (601 kB)\n",
      "\u001b[K     |████████████████████████████████| 601 kB 1.2 MB/s eta 0:00:01\n",
      "\u001b[?25hCollecting quandl\n",
      "  Downloading Quandl-3.5.3-py2.py3-none-any.whl (25 kB)\n",
      "Collecting fastdtw\n",
      "  Downloading fastdtw-0.3.4.tar.gz (133 kB)\n",
      "\u001b[K     |████████████████████████████████| 133 kB 12.8 MB/s eta 0:00:01\n",
      "\u001b[?25hCollecting cvxopt; python_version < \"3.8\" or sys_platform != \"win32\"\n",
      "  Downloading cvxopt-1.2.5-cp38-cp38-macosx_10_9_x86_64.whl (3.1 MB)\n",
      "\u001b[K     |████████████████████████████████| 3.1 MB 3.5 MB/s eta 0:00:01\n",
      "\u001b[?25hRequirement already satisfied, skipping upgrade: attrs>=17.4.0 in /usr/local/lib/python3.8/site-packages (from jsonschema>=2.6->qiskit-terra==0.12.0->qiskit==0.15.0) (20.2.0)\n",
      "Requirement already satisfied, skipping upgrade: six>=1.11.0 in /usr/local/Cellar/protobuf/3.13.0/libexec/lib/python3.8/site-packages (from jsonschema>=2.6->qiskit-terra==0.12.0->qiskit==0.15.0) (1.15.0)\n",
      "Requirement already satisfied, skipping upgrade: pyrsistent>=0.14.0 in /usr/local/lib/python3.8/site-packages (from jsonschema>=2.6->qiskit-terra==0.12.0->qiskit==0.15.0) (0.17.3)\n",
      "Requirement already satisfied, skipping upgrade: decorator>=4.3.0 in /usr/local/lib/python3.8/site-packages (from networkx>=2.2; python_version > \"3.5\"->qiskit-terra==0.12.0->qiskit==0.15.0) (4.4.2)\n",
      "Collecting mpmath>=0.19\n",
      "  Downloading mpmath-1.1.0.tar.gz (512 kB)\n",
      "\u001b[K     |████████████████████████████████| 512 kB 6.8 MB/s eta 0:00:01\n",
      "\u001b[?25hCollecting cryptography>=1.3\n",
      "  Downloading cryptography-3.2.1-cp35-abi3-macosx_10_10_x86_64.whl (1.8 MB)\n",
      "\u001b[K     |████████████████████████████████| 1.8 MB 1.7 MB/s eta 0:00:01\n",
      "\u001b[?25hCollecting ntlm-auth>=1.0.2\n",
      "  Downloading ntlm_auth-1.5.0-py2.py3-none-any.whl (29 kB)\n",
      "Requirement already satisfied, skipping upgrade: python-dateutil>=2.7.0 in /usr/local/lib/python3.8/site-packages (from arrow>=0.15.5->qiskit-ibmq-provider==0.4.6->qiskit==0.15.0) (2.8.1)\n",
      "Requirement already satisfied, skipping upgrade: chardet<4,>=3.0.2 in /usr/local/lib/python3.8/site-packages (from requests>=2.19->qiskit-ibmq-provider==0.4.6->qiskit==0.15.0) (3.0.4)\n",
      "Requirement already satisfied, skipping upgrade: certifi>=2017.4.17 in /usr/local/lib/python3.8/site-packages (from requests>=2.19->qiskit-ibmq-provider==0.4.6->qiskit==0.15.0) (2020.6.20)\n",
      "Requirement already satisfied, skipping upgrade: idna<3,>=2.5 in /usr/local/lib/python3.8/site-packages (from requests>=2.19->qiskit-ibmq-provider==0.4.6->qiskit==0.15.0) (2.10)\n",
      "Requirement already satisfied, skipping upgrade: urllib3!=1.25.0,!=1.25.1,<1.26,>=1.21.1 in /usr/local/lib/python3.8/site-packages (from requests>=2.19->qiskit-ibmq-provider==0.4.6->qiskit==0.15.0) (1.25.11)\n",
      "Collecting joblib>=0.11\n",
      "  Downloading joblib-0.17.0-py3-none-any.whl (301 kB)\n",
      "\u001b[K     |████████████████████████████████| 301 kB 6.9 MB/s eta 0:00:01\n",
      "\u001b[?25hCollecting threadpoolctl>=2.0.0\n",
      "  Downloading threadpoolctl-2.1.0-py3-none-any.whl (12 kB)\n",
      "Collecting pandas>=0.14\n",
      "  Downloading pandas-1.1.4-cp38-cp38-macosx_10_9_x86_64.whl (10.1 MB)\n",
      "\u001b[K     |████████████████████████████████| 10.1 MB 4.2 MB/s eta 0:00:01\n",
      "\u001b[?25hCollecting inflection>=0.3.1\n",
      "  Downloading inflection-0.5.1-py2.py3-none-any.whl (9.5 kB)\n",
      "Collecting more-itertools\n",
      "  Downloading more_itertools-8.6.0-py3-none-any.whl (45 kB)\n",
      "\u001b[K     |████████████████████████████████| 45 kB 5.9 MB/s eta 0:00:011\n",
      "\u001b[?25hRequirement already satisfied, skipping upgrade: cffi!=1.11.3,>=1.8 in /usr/local/lib/python3.8/site-packages (from cryptography>=1.3->requests-ntlm>=1.1.0->qiskit-ibmq-provider==0.4.6->qiskit==0.15.0) (1.14.3)\n",
      "Collecting pytz>=2017.2\n",
      "  Downloading pytz-2020.4-py2.py3-none-any.whl (509 kB)\n",
      "\u001b[K     |████████████████████████████████| 509 kB 4.5 MB/s eta 0:00:01\n",
      "\u001b[?25hRequirement already satisfied, skipping upgrade: pycparser in /usr/local/lib/python3.8/site-packages (from cffi!=1.11.3,>=1.8->cryptography>=1.3->requests-ntlm>=1.1.0->qiskit-ibmq-provider==0.4.6->qiskit==0.15.0) (2.20)\n",
      "Building wheels for collected packages: qiskit, psutil, marshmallow-polyfield, websockets, dlx, docplex, fastdtw, mpmath\n"
     ]
    },
    {
     "name": "stdout",
     "output_type": "stream",
     "text": [
      "  Building wheel for qiskit (setup.py) ... \u001b[?25ldone\n",
      "\u001b[?25h  Created wheel for qiskit: filename=qiskit-0.15.0-py3-none-any.whl size=1399 sha256=06fe13dd8abce0bd0b46b885700ce366aa9d843a63a0a3f6f50aba6942ac9008\n",
      "  Stored in directory: /Users/kanishkmittal/Library/Caches/pip/wheels/dd/2a/e1/02eb520454454c9818fab73a8d0a0255cc66d5f1885a39f991\n",
      "  Building wheel for psutil (setup.py) ... \u001b[?25ldone\n",
      "\u001b[?25h  Created wheel for psutil: filename=psutil-5.7.3-cp38-cp38-macosx_10_15_x86_64.whl size=235105 sha256=d80be84fc2c2037475adfb9235b7ab922234fb9ca240fb7baaa659f53959f314\n",
      "  Stored in directory: /Users/kanishkmittal/Library/Caches/pip/wheels/f6/59/c2/38111ef4c354088a156bc95fbeb5396c0cac91a0f62f7158b9\n",
      "  Building wheel for marshmallow-polyfield (setup.py) ... \u001b[?25ldone\n",
      "\u001b[?25h  Created wheel for marshmallow-polyfield: filename=marshmallow_polyfield-5.9-py3-none-any.whl size=8535 sha256=eb234a27817e430c33569e15fb7bc8e58314008187f467f671b8928fa24b48b7\n",
      "  Stored in directory: /Users/kanishkmittal/Library/Caches/pip/wheels/53/91/60/2395b43bb3bab3506d35a3c52e749c9b3c149621f2ca7d3447\n",
      "  Building wheel for websockets (setup.py) ... \u001b[?25ldone\n",
      "\u001b[?25h  Created wheel for websockets: filename=websockets-7.0-cp38-cp38-macosx_10_15_x86_64.whl size=57106 sha256=18e539c0a6dadce539f86cbfacc3c3667bfc4621e67bb6391aa5f80c13cb59e4\n",
      "  Stored in directory: /Users/kanishkmittal/Library/Caches/pip/wheels/ff/66/8a/b0610f3b070460e56f775bfcaafc6123838f3e7ab3cd80aaaf\n",
      "  Building wheel for dlx (setup.py) ... \u001b[?25ldone\n",
      "\u001b[?25h  Created wheel for dlx: filename=dlx-1.0.4-py3-none-any.whl size=5709 sha256=c9adc867a68385b488788ceb155c423333cb65d6925b9474fca0282a67812b52\n",
      "  Stored in directory: /Users/kanishkmittal/Library/Caches/pip/wheels/c4/03/f9/7afbf40e0c3d6928d16bcadb46264a6e68704998ec72f7ea13\n",
      "  Building wheel for docplex (setup.py) ... \u001b[?25ldone\n",
      "\u001b[?25h  Created wheel for docplex: filename=docplex-2.16.196-py3-none-any.whl size=664763 sha256=93612c6d9af6cc395e4cdc26eedd5119b6ecdccefe484ca8d463b8e45c9e9e05\n",
      "  Stored in directory: /Users/kanishkmittal/Library/Caches/pip/wheels/64/24/02/89f55a490b8c9c36a0042309a8821c122987be3fd2389939cd\n",
      "  Building wheel for fastdtw (setup.py) ... \u001b[?25ldone\n",
      "\u001b[?25h  Created wheel for fastdtw: filename=fastdtw-0.3.4-cp38-cp38-macosx_10_15_x86_64.whl size=102332 sha256=24573bb172a8964625602022269a31eee16ace741882759f38f400b0bd685db2\n",
      "  Stored in directory: /Users/kanishkmittal/Library/Caches/pip/wheels/e9/ac/30/c962f9d759dd68cb5482727c44441fdfb48040fdbe983857e8\n",
      "  Building wheel for mpmath (setup.py) ... \u001b[?25ldone\n",
      "\u001b[?25h  Created wheel for mpmath: filename=mpmath-1.1.0-py3-none-any.whl size=532239 sha256=fc83998bfa38ee52bee271a427778a1aa871b82154dd1c7cd9efc5cccb5e47e3\n",
      "  Stored in directory: /Users/kanishkmittal/Library/Caches/pip/wheels/29/2c/1c/d2e4580cde2743b0aef389e936ac21a2db92921ddbca53faa1\n",
      "Successfully built qiskit psutil marshmallow-polyfield websockets dlx docplex fastdtw mpmath\n",
      "Installing collected packages: psutil, dill, marshmallow, marshmallow-polyfield, ply, networkx, mpmath, sympy, qiskit-terra, cython, pybind11, qiskit-aer, cryptography, ntlm-auth, requests-ntlm, arrow, websockets, qiskit-ibmq-provider, qiskit-ignis, h5py, joblib, threadpoolctl, scikit-learn, dlx, docplex, pytz, pandas, inflection, more-itertools, quandl, fastdtw, cvxopt, qiskit-aqua, qiskit\n",
      "\u001b[33m  WARNING: The script isympy is installed in '/Users/kanishkmittal/Library/Python/3.8/bin' which is not on PATH.\n",
      "  Consider adding this directory to PATH or, if you prefer to suppress this warning, use --no-warn-script-location.\u001b[0m\n",
      "\u001b[33m  WARNING: The scripts cygdb, cython and cythonize are installed in '/Users/kanishkmittal/Library/Python/3.8/bin' which is not on PATH.\n",
      "  Consider adding this directory to PATH or, if you prefer to suppress this warning, use --no-warn-script-location.\u001b[0m\n",
      "\u001b[33m  WARNING: The script pybind11-config is installed in '/Users/kanishkmittal/Library/Python/3.8/bin' which is not on PATH.\n",
      "  Consider adding this directory to PATH or, if you prefer to suppress this warning, use --no-warn-script-location.\u001b[0m\n",
      "Successfully installed arrow-0.17.0 cryptography-3.2.1 cvxopt-1.2.5 cython-0.29.21 dill-0.3.3 dlx-1.0.4 docplex-2.16.196 fastdtw-0.3.4 h5py-3.1.0 inflection-0.5.1 joblib-0.17.0 marshmallow-3.9.1 marshmallow-polyfield-5.9 more-itertools-8.6.0 mpmath-1.1.0 networkx-2.5 ntlm-auth-1.5.0 pandas-1.1.4 ply-3.11 psutil-5.7.3 pybind11-2.6.1 pytz-2020.4 qiskit-0.15.0 qiskit-aer-0.4.0 qiskit-aqua-0.6.4 qiskit-ibmq-provider-0.4.6 qiskit-ignis-0.2.0 qiskit-terra-0.12.0 quandl-3.5.3 requests-ntlm-1.1.0 scikit-learn-0.23.2 sympy-1.6.2 threadpoolctl-2.1.0 websockets-7.0\n",
      "Note: you may need to restart the kernel to use updated packages.\n"
     ]
    }
   ],
   "source": [
    "pip install -U qiskit==0.15.0 --user"
   ]
  },
  {
   "cell_type": "markdown",
   "metadata": {},
   "source": [
    "__*Restart the kernel*__ (check \"Kernel\" menu) to apply the changes to the current notebook."
   ]
  },
  {
   "cell_type": "markdown",
   "metadata": {},
   "source": [
    "<hr id=\"tips\">\n",
    "\n",
    "### Tips\n",
    "\n",
    "_Any terminal/shell command can be executed in the notebook cells by putting exclamation mark (!) to the beginning of the command._\n",
    "\n",
    "_$\\rightarrow$ For updating Qiskit version, execute the following command on a code cell_\n",
    "\n",
    "    !pip install -U qiskit --user\n",
    "    \n",
    "_$\\rightarrow$ For uninstall Qiskit, execute the following command on a code cell_\n",
    "\n",
    "    !pip uninstall qiskit"
   ]
  },
  {
   "cell_type": "code",
   "execution_count": 16,
   "metadata": {},
   "outputs": [
    {
     "name": "stdout",
     "output_type": "stream",
     "text": [
      "pip 20.3b1 from /Library/Python/2.7/site-packages/pip-20.3b1-py2.7.egg/pip (python 2.7)\r\n"
     ]
    }
   ],
   "source": [
    "#!pip install -U qiskit --user\n",
    "#!pip uninstall qiskit\n",
    "!pip -V"
   ]
  },
  {
   "cell_type": "markdown",
   "metadata": {},
   "source": [
    "<hr id=\"test\">\n",
    "\n",
    "### Execute an example quantum program\n"
   ]
  },
  {
   "cell_type": "markdown",
   "metadata": {},
   "source": [
    "1) Create a quantum circuit"
   ]
  },
  {
   "cell_type": "code",
   "execution_count": 3,
   "metadata": {},
   "outputs": [
    {
     "name": "stdout",
     "output_type": "stream",
     "text": [
      "The execution of the cell was completed, and the circuit was created :)\n"
     ]
    }
   ],
   "source": [
    "# import the objects from qiskit\n",
    "from qiskit import QuantumRegister, ClassicalRegister, QuantumCircuit, execute, Aer\n",
    "from random import randrange\n",
    "\n",
    "# create a quantum circuit and its register objects\n",
    "qreg = QuantumRegister(2) # quantum register with two quantum bits\n",
    "creg = ClassicalRegister(2) # classical register with two classical bit\n",
    "circuit = QuantumCircuit(qreg,creg) # quantum circuit composed by a quantum register and a classical register\n",
    "\n",
    "# apply a Hadamard gate to the first qubit\n",
    "circuit.h(qreg[0])\n",
    "\n",
    "# set the second qubit to state |1>\n",
    "circuit.x(qreg[1])\n",
    "\n",
    "# apply CNOT(first_qubit,second_qubit)\n",
    "circuit.cx(qreg[0],qreg[1])\n",
    "\n",
    "# measure the both qubits\n",
    "circuit.measure(qreg,creg)\n",
    "\n",
    "print(\"The execution of the cell was completed, and the circuit was created :)\")"
   ]
  },
  {
   "cell_type": "markdown",
   "metadata": {},
   "source": [
    "2) Draw the circuit\n",
    "\n",
    "_Run the cell once more if the figure is not shown_"
   ]
  },
  {
   "cell_type": "code",
   "execution_count": 4,
   "metadata": {},
   "outputs": [
    {
     "data": {
      "image/png": "[encoded data removed]",
      "text/plain": [
       "<Figure size 429.828x204.68 with 1 Axes>"
      ]
     },
     "execution_count": 4,
     "metadata": {},
     "output_type": "execute_result"
    }
   ],
   "source": [
    "# draw circuit \n",
    "circuit.draw(output='mpl')\n",
    "\n",
    "# the output will be a \"matplotlib.Figure\" object"
   ]
  },
  {
   "cell_type": "markdown",
   "metadata": {},
   "source": [
    "3) Execute the circuit 1024 times in the local simulator and print the observed the outcomes"
   ]
  },
  {
   "cell_type": "code",
   "execution_count": 15,
   "metadata": {},
   "outputs": [
    {
     "name": "stdout",
     "output_type": "stream",
     "text": [
      "{'01': 543, '10': 481}\n"
     ]
    }
   ],
   "source": [
    "## execute the circuit 1024 times\n",
    "job = execute(circuit,Aer.get_backend('qasm_simulator'),shots=1024)\n",
    "# get the result\n",
    "counts = job.result().get_counts(circuit)\n",
    "print(counts)"
   ]
  }
 ],
 "metadata": {
  "kernelspec": {
   "display_name": "Python 3",
   "language": "python",
   "name": "python3"
  },
  "language_info": {
   "codemirror_mode": {
    "name": "ipython",
    "version": 3
   },
   "file_extension": ".py",
   "mimetype": "text/x-python",
   "name": "python",
   "nbconvert_exporter": "python",
   "pygments_lexer": "ipython3",
   "version": "3.8.5"
  }
 },
 "nbformat": 4,
 "nbformat_minor": 2
}
